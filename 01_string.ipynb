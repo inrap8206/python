{
 "cells": [
  {
   "cell_type": "code",
   "execution_count": 18,
   "id": "697fd82b",
   "metadata": {
    "ExecuteTime": {
     "end_time": "2022-03-15T10:52:20.037928Z",
     "start_time": "2022-03-15T10:52:20.024503Z"
    }
   },
   "outputs": [
    {
     "name": "stdout",
     "output_type": "stream",
     "text": [
      "I eat 3 apples.\n"
     ]
    }
   ],
   "source": [
    "# formatting\n",
    "print(\"I eat %d apples.\" %3)"
   ]
  },
  {
   "cell_type": "code",
   "execution_count": 19,
   "id": "27d1e7a7",
   "metadata": {
    "ExecuteTime": {
     "end_time": "2022-03-15T10:53:02.622542Z",
     "start_time": "2022-03-15T10:53:02.616559Z"
    }
   },
   "outputs": [
    {
     "name": "stdout",
     "output_type": "stream",
     "text": [
      "I ate 10 apples, so I was sick for three days.\n"
     ]
    }
   ],
   "source": [
    "number = 10\n",
    "day = \"three\"\n",
    "print(\"I ate %d apples, so I was sick for %s days.\" % (number, day))"
   ]
  },
  {
   "cell_type": "code",
   "execution_count": 21,
   "id": "4aa3516a",
   "metadata": {
    "ExecuteTime": {
     "end_time": "2022-03-15T11:00:49.242348Z",
     "start_time": "2022-03-15T11:00:49.232374Z"
    }
   },
   "outputs": [
    {
     "data": {
      "text/plain": [
       "6"
      ]
     },
     "execution_count": 21,
     "metadata": {},
     "output_type": "execute_result"
    }
   ],
   "source": [
    "# string function\n",
    "\n",
    "word = 'Python'\n",
    "len(word) # 6"
   ]
  },
  {
   "cell_type": "code",
   "execution_count": 22,
   "id": "3e86251c",
   "metadata": {
    "ExecuteTime": {
     "end_time": "2022-03-15T11:00:55.755589Z",
     "start_time": "2022-03-15T11:00:55.736611Z"
    }
   },
   "outputs": [
    {
     "data": {
      "text/plain": [
       "1"
      ]
     },
     "execution_count": 22,
     "metadata": {},
     "output_type": "execute_result"
    }
   ],
   "source": [
    "word.count('y')  # 1"
   ]
  },
  {
   "cell_type": "code",
   "execution_count": 23,
   "id": "7389cd21",
   "metadata": {
    "ExecuteTime": {
     "end_time": "2022-03-15T11:01:03.665978Z",
     "start_time": "2022-03-15T11:01:03.654010Z"
    }
   },
   "outputs": [
    {
     "data": {
      "text/plain": [
       "5"
      ]
     },
     "execution_count": 23,
     "metadata": {},
     "output_type": "execute_result"
    }
   ],
   "source": [
    "word.index('n')  # 5"
   ]
  },
  {
   "cell_type": "code",
   "execution_count": 24,
   "id": "48918613",
   "metadata": {
    "ExecuteTime": {
     "end_time": "2022-03-15T11:01:11.014753Z",
     "start_time": "2022-03-15T11:01:11.006775Z"
    }
   },
   "outputs": [
    {
     "data": {
      "text/plain": [
       "'1,2,3,4'"
      ]
     },
     "execution_count": 24,
     "metadata": {},
     "output_type": "execute_result"
    }
   ],
   "source": [
    "a = ','\n",
    "a.join('1234') # '1,2,3,4'"
   ]
  },
  {
   "cell_type": "code",
   "execution_count": 25,
   "id": "ef4e108e",
   "metadata": {
    "ExecuteTime": {
     "end_time": "2022-03-15T11:01:14.389854Z",
     "start_time": "2022-03-15T11:01:14.375891Z"
    }
   },
   "outputs": [
    {
     "data": {
      "text/plain": [
       "['python', 'is', 'fun']"
      ]
     },
     "execution_count": 25,
     "metadata": {},
     "output_type": "execute_result"
    }
   ],
   "source": [
    "s1 = 'python is fun'\n",
    "s1.split()  # ['python', 'is', 'fun']"
   ]
  },
  {
   "cell_type": "code",
   "execution_count": 26,
   "id": "f685db57",
   "metadata": {
    "ExecuteTime": {
     "end_time": "2022-03-15T11:01:15.507344Z",
     "start_time": "2022-03-15T11:01:15.503331Z"
    }
   },
   "outputs": [
    {
     "data": {
      "text/plain": [
       "['one', 'two', 'three']"
      ]
     },
     "execution_count": 26,
     "metadata": {},
     "output_type": "execute_result"
    }
   ],
   "source": [
    "s2 = 'one:two:three'\n",
    "s2.split(\":\")  # ['one', 'two', 'three']"
   ]
  },
  {
   "cell_type": "code",
   "execution_count": null,
   "id": "2c0c3b65",
   "metadata": {},
   "outputs": [],
   "source": []
  }
 ],
 "metadata": {
  "kernelspec": {
   "display_name": "Python 3",
   "language": "python",
   "name": "python3"
  },
  "language_info": {
   "codemirror_mode": {
    "name": "ipython",
    "version": 3
   },
   "file_extension": ".py",
   "mimetype": "text/x-python",
   "name": "python",
   "nbconvert_exporter": "python",
   "pygments_lexer": "ipython3",
   "version": "3.8.8"
  },
  "toc": {
   "base_numbering": 1,
   "nav_menu": {},
   "number_sections": true,
   "sideBar": true,
   "skip_h1_title": false,
   "title_cell": "Table of Contents",
   "title_sidebar": "Contents",
   "toc_cell": false,
   "toc_position": {},
   "toc_section_display": true,
   "toc_window_display": false
  }
 },
 "nbformat": 4,
 "nbformat_minor": 5
}
